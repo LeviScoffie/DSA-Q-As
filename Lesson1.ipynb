{
 "cells": [
  {
   "cell_type": "markdown",
   "metadata": {},
   "source": [
    "### Lesson 1 Binary Search, Linked Lists and Complexity\n",
    "\n",
    "* QUESTION 1: Alice has some cards with numbers written on them. She arranges the cards in decreasing order, and lays them out face down in a sequence on a table. She challenges Bob to pick out the card containing a given number by turning over as few cards as possible. Write a function to help Bob locate the card. \n",
    "\n",
    "Approach towards the problem:\n",
    "\n",
    "Rep the cards as a list of numbers.\n",
    "we nned to access the minimum number of elements to get to a particular element.\n",
    "\n",
    "\n",
    "Problem to be solve:\n",
    "We need to write a program to find the position of a given number in a list of numbers arranged in decreasing order. We also need to minimize the number of times we access elements from the list.\n",
    "\n",
    "In my own words:\n",
    "Identify a card number. Use the least number of times in turning over to find this card number. Then say its postion."
   ]
  },
  {
   "cell_type": "code",
   "execution_count": 56,
   "metadata": {},
   "outputs": [],
   "source": [
    "def locate_card(cards,query):\n",
    "    pass"
   ]
  },
  {
   "cell_type": "markdown",
   "metadata": {},
   "source": [
    "* Example inputs and outputs and edge cases."
   ]
  },
  {
   "cell_type": "code",
   "execution_count": 57,
   "metadata": {},
   "outputs": [],
   "source": [
    "cards=[13,11,10,7,4,3,1,0]\n",
    "query=7\n",
    "output=3"
   ]
  },
  {
   "cell_type": "code",
   "execution_count": 58,
   "metadata": {},
   "outputs": [
    {
     "name": "stdout",
     "output_type": "stream",
     "text": [
      "None\n"
     ]
    }
   ],
   "source": [
    "result=locate_card(cards,query)\n",
    "print(result)"
   ]
  },
  {
   "cell_type": "markdown",
   "metadata": {},
   "source": [
    "Represent test cases with dictiionaries. In this case has 2 keys input and output. IN the input key it will contain a dictionary value that has 2 keys that are arguments of the function."
   ]
  },
  {
   "cell_type": "code",
   "execution_count": 59,
   "metadata": {},
   "outputs": [],
   "source": [
    "test={'input':{\n",
    "            'cards':[13,11,10,7,4,3,1,0]\n",
    "            ,'query':7\n",
    "            },\n",
    "      'output':4}\n",
    "\n",
    "# how to test"
   ]
  },
  {
   "cell_type": "code",
   "execution_count": 60,
   "metadata": {},
   "outputs": [
    {
     "data": {
      "text/plain": [
       "False"
      ]
     },
     "execution_count": 60,
     "metadata": {},
     "output_type": "execute_result"
    }
   ],
   "source": [
    "locate_card(**test['input'])==test['output']"
   ]
  },
  {
   "cell_type": "markdown",
   "metadata": {},
   "source": [
    "* Think of many variations to this problem. eg\n",
    "1. The card bring sought might be somewhere in the middle\n",
    "2. might be the first element\n",
    "3. might be the last elemtn\n",
    "4. the card might be in different positions (repetitive)\n",
    "5. the card might not be in the deck\n"
   ]
  },
  {
   "cell_type": "code",
   "execution_count": 61,
   "metadata": {},
   "outputs": [],
   "source": [
    "tests=[]\n",
    "\n",
    "tests.append(test)"
   ]
  },
  {
   "cell_type": "code",
   "execution_count": 62,
   "metadata": {},
   "outputs": [],
   "source": [
    "## query is the 2nd last eleemnt/somewhere in the middle\n",
    "tests.append({\n",
    "        'input':{\n",
    "            'cards':[13,11,10,7,4,3,1,0]\n",
    "            ,'query':1\n",
    "            },\n",
    "       'output':6})"
   ]
  },
  {
   "cell_type": "code",
   "execution_count": 63,
   "metadata": {},
   "outputs": [],
   "source": [
    "# query is the first elements\n",
    "tests.append({\n",
    "        'input':{\n",
    "            'cards':[4,3,2,1,-1]\n",
    "            ,'query':4\n",
    "            },\n",
    "       'output':0})"
   ]
  },
  {
   "cell_type": "code",
   "execution_count": 64,
   "metadata": {},
   "outputs": [],
   "source": [
    "# cards containing just 1 element\n",
    "tests.append({\n",
    "        'input':{\n",
    "            'cards':[4]\n",
    "            ,'query':4\n",
    "            },\n",
    "       'output':0})"
   ]
  },
  {
   "cell_type": "markdown",
   "metadata": {},
   "source": [
    "* case when cards does not contain query we resturn -1. There is insuffiencent communication in the question and so this is an assumption we just made\n"
   ]
  },
  {
   "cell_type": "code",
   "execution_count": 65,
   "metadata": {},
   "outputs": [],
   "source": [
    "# cards does not contain query\n",
    "\n",
    "tests.append({\n",
    "        'input':{\n",
    "            'cards':[9,7,5,2,-9]\n",
    "            ,'query':4\n",
    "            },\n",
    "       'output':-1})\n"
   ]
  },
  {
   "cell_type": "code",
   "execution_count": 66,
   "metadata": {},
   "outputs": [],
   "source": [
    "# cards is empty\n",
    "tests.append({\n",
    "        'input':{\n",
    "            'cards':[]\n",
    "            ,'query':4\n",
    "            },\n",
    "       'output':-1})\n"
   ]
  },
  {
   "cell_type": "code",
   "execution_count": 67,
   "metadata": {},
   "outputs": [],
   "source": [
    "# cards has numbers which are repeating but query is not repeating\n",
    "\n",
    "tests.append({\n",
    "        'input':{\n",
    "            'cards':[9,9,9,9,9,6,6,6,6,4,2,2,2,2,0,0,0]\n",
    "            ,'query':4\n",
    "            },\n",
    "       'output':9})\n"
   ]
  },
  {
   "cell_type": "code",
   "execution_count": 68,
   "metadata": {},
   "outputs": [],
   "source": [
    "# case when query occurs multiple times\n",
    "tests.append({\n",
    "        'input':{\n",
    "            'cards':[9,9,9,9,9,6,6,6,6,4,2,2,2,2,0,0,0]\n",
    "            ,'query':6\n",
    "            },\n",
    "       'output':5})\n",
    "\n",
    "# expected to return the first instance of the query"
   ]
  },
  {
   "cell_type": "code",
   "execution_count": 69,
   "metadata": {},
   "outputs": [
    {
     "data": {
      "text/plain": [
       "[{'input': {'cards': [13, 11, 10, 7, 4, 3, 1, 0], 'query': 7}, 'output': 4},\n",
       " {'input': {'cards': [13, 11, 10, 7, 4, 3, 1, 0], 'query': 1}, 'output': 6},\n",
       " {'input': {'cards': [4, 3, 2, 1, -1], 'query': 4}, 'output': 0},\n",
       " {'input': {'cards': [4], 'query': 4}, 'output': 0},\n",
       " {'input': {'cards': [9, 7, 5, 2, -9], 'query': 4}, 'output': -1},\n",
       " {'input': {'cards': [], 'query': 4}, 'output': -1},\n",
       " {'input': {'cards': [9, 9, 9, 9, 9, 6, 6, 6, 6, 4, 2, 2, 2, 2, 0, 0, 0],\n",
       "   'query': 4},\n",
       "  'output': 9},\n",
       " {'input': {'cards': [9, 9, 9, 9, 9, 6, 6, 6, 6, 4, 2, 2, 2, 2, 0, 0, 0],\n",
       "   'query': 6},\n",
       "  'output': 5}]"
      ]
     },
     "execution_count": 69,
     "metadata": {},
     "output_type": "execute_result"
    }
   ],
   "source": [
    "tests"
   ]
  },
  {
   "cell_type": "markdown",
   "metadata": {},
   "source": [
    "Steps to reproduce: Bob can just turn over the cards one by one and find the card with the given number on it.\n",
    "\n",
    "1. So create a varible `position` with value 0\n",
    "2. Check whether at `position` the  card number= query\n",
    "3. if it does the `position` is the answer and can be retuned from the function\n",
    "4. if not , incremental by postion 1\n",
    "5. if number was not founf then -1\n",
    "\n",
    "This is a **linear search algo** explained in words..now to do it in code form. Searches through  a list in a linear fashion element by element.\n",
    "\n",
    "\n",
    "## Always  express the algorithim in your own words"
   ]
  },
  {
   "cell_type": "code",
   "execution_count": 99,
   "metadata": {},
   "outputs": [],
   "source": [
    "def locate_card(cards,query):\n",
    "    #create psition variable\n",
    "    position=0\n",
    "    \n",
    "\n",
    "    # set up loop\n",
    "    while position<len(cards):\n",
    "        # print('position:',position)\n",
    "        #check if element at the position matches the query\n",
    "        if cards[position]==query:\n",
    "            # answer found; out of loop now\n",
    "            return position\n",
    "        \n",
    "        position += 1\n",
    "        \n",
    "        #check if we have reached end of array\n",
    "        \n",
    "      \n",
    "        \n",
    "        # number not found\n",
    "    return -1"
   ]
  },
  {
   "cell_type": "code",
   "execution_count": 100,
   "metadata": {},
   "outputs": [
    {
     "data": {
      "text/plain": [
       "{'input': {'cards': [], 'query': 4}, 'output': -1}"
      ]
     },
     "execution_count": 100,
     "metadata": {},
     "output_type": "execute_result"
    }
   ],
   "source": [
    "tests[5]"
   ]
  },
  {
   "cell_type": "code",
   "execution_count": 101,
   "metadata": {},
   "outputs": [
    {
     "data": {
      "text/plain": [
       "-1"
      ]
     },
     "execution_count": 101,
     "metadata": {},
     "output_type": "execute_result"
    }
   ],
   "source": [
    "cards5=tests[5]['input']['cards']\n",
    "query5=tests[5]['input']['query']\n",
    "locate_card(cards5,query5)"
   ]
  },
  {
   "cell_type": "code",
   "execution_count": 102,
   "metadata": {},
   "outputs": [
    {
     "name": "stdout",
     "output_type": "stream",
     "text": [
      "3\n"
     ]
    }
   ],
   "source": [
    "result==locate_card(cards,query)\n",
    "print(result)"
   ]
  },
  {
   "cell_type": "code",
   "execution_count": 103,
   "metadata": {},
   "outputs": [
    {
     "name": "stdout",
     "output_type": "stream",
     "text": [
      "False\n",
      "True\n",
      "True\n",
      "True\n",
      "True\n",
      "True\n",
      "True\n",
      "True\n"
     ]
    }
   ],
   "source": [
    "for test in tests:\n",
    "    print(locate_card(**test['input'])==test['output'])"
   ]
  },
  {
   "cell_type": "markdown",
   "metadata": {},
   "source": [
    "Whenever you get an error dont look at the code, first try to understand the error. Then add some print statements to get where the bugs are evidennt. Now. the solution here might be to first check whether we've reached the end of the arrya before trying to accessan element from it . using another condition in while loop. PO"
   ]
  },
  {
   "cell_type": "markdown",
   "metadata": {},
   "source": [
    "But this was a challenge that required Bob to use the most minimal numer of times to access elements from the list \"cards\". That is where the complexity of an algorithm comes in. Since we access a list element once every iteration, for a lost of size N , Bob may have to access the list up to N times in the worst case scenario. \n",
    "\n",
    "\n",
    "### Complexity\n",
    "Supose he is only allowed to access 1 card per minute, for a deck of 30 cards it may take him 30 mins.\n",
    "The field os study concerned with finding the amount of time, space or other resources reqired to complete the execution of computer programs is called the _analysis of algorithms_ and the process of figuring our the best algoritm to solve a given problem is called _algo design and optimization_.\n",
    "**Complexity** is the measure of amount of time and/or space needed by an algo for an input of given size N. For a linear search in out case the time complexity is `cN` and c is a constant that depend on number of operation we perform ineach iteration and time taken to excute a statement.\n",
    "\n",
    "The space complexity is some constant c' (independent of N), since we just need a single variable position to iterate through the array, and it occupies a constant space in the computer's memory (RAM).\n",
    "\n",
    "\n",
    "```Worst-case complexity is expressed using the Big O notation. We drop fixed constants and lower powers of variables to capture the trend of restionship bbetween the size of the input and the complexity of the algo```\n",
    "\n",
    "\n",
    "Perfect solution: Bob guesses the right card on first trial.\n",
    "\n",
    "The next best idea would be to pick a random card, and use the fact that the list is sorted, to determine whether the target card lies to the left or right of it. If we pick the middle card, we can reduce the number ofnadditional cards to be testes to half the size of the list. Then repeat the process with each half. This technique is called **binary search**. Bonary beacuse we make a left or right decision."
   ]
  },
  {
   "cell_type": "markdown",
   "metadata": {},
   "source": [
    "## Solution for the problem:In Plain English\n",
    "1. Find the middle element of the list\n",
    "2. if it matches the required query,, return the postion of the answer.\n",
    "3. if less then search first half of the list\n",
    "4. if greater than search the second half\n",
    "5. if nome more elements remain return -1."
   ]
  },
  {
   "cell_type": "code",
   "execution_count": null,
   "metadata": {},
   "outputs": [],
   "source": []
  }
 ],
 "metadata": {
  "kernelspec": {
   "display_name": "Python 3.9.13 64-bit",
   "language": "python",
   "name": "python3"
  },
  "language_info": {
   "codemirror_mode": {
    "name": "ipython",
    "version": 3
   },
   "file_extension": ".py",
   "mimetype": "text/x-python",
   "name": "python",
   "nbconvert_exporter": "python",
   "pygments_lexer": "ipython3",
   "version": "3.9.13"
  },
  "orig_nbformat": 4,
  "vscode": {
   "interpreter": {
    "hash": "36cf16204b8548560b1c020c4e8fb5b57f0e4c58016f52f2d4be01e192833930"
   }
  }
 },
 "nbformat": 4,
 "nbformat_minor": 2
}

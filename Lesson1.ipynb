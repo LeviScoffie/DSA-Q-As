{
 "cells": [
  {
   "cell_type": "markdown",
   "metadata": {},
   "source": [
    "### Lesson 1 Binary Search, Linked Lists and Complexity\n",
    "\n",
    "* QUESTION 1: Alice has some cards with numbers written on them. She arranges the cards in decreasing order, and lays them out face down in a sequence on a table. She challenges Bob to pick out the card containing a given number by turning over as few cards as possible. Write a function to help Bob locate the card. \n",
    "\n",
    "Approach towards the problem:\n",
    "\n",
    "Rep the cards as a list of numbers.\n",
    "we nned to access the minimum number of elements to get to a particular element.\n",
    "\n",
    "\n",
    "Problem to be solve:\n",
    "We need to write a program to find the position of a given number in a list of numbers arranged in decreasing order. We also need to minimize the number of times we access elements from the list.\n",
    "\n",
    "In my own words:\n",
    "Identify a card number. Use the least number of times in turning over to find this card number. Then say its postion."
   ]
  },
  {
   "cell_type": "code",
   "execution_count": 5,
   "metadata": {},
   "outputs": [],
   "source": [
    "def locate_card(cards,query):\n",
    "    pass"
   ]
  },
  {
   "cell_type": "markdown",
   "metadata": {},
   "source": [
    "* Example inputs and outputs and edge cases."
   ]
  },
  {
   "cell_type": "code",
   "execution_count": 6,
   "metadata": {},
   "outputs": [],
   "source": [
    "cards=[13,11,10,7,4,3,1,0]\n",
    "query=7\n",
    "output=3"
   ]
  },
  {
   "cell_type": "code",
   "execution_count": 7,
   "metadata": {},
   "outputs": [
    {
     "name": "stdout",
     "output_type": "stream",
     "text": [
      "None\n"
     ]
    }
   ],
   "source": [
    "result=locate_card(cards,query)\n",
    "print(result)"
   ]
  },
  {
   "cell_type": "markdown",
   "metadata": {},
   "source": [
    "Represent test cases with dictiionaries. In this case has 2 keys input and output. IN the input key it will contain a dictionary value that has 2 keys that are arguments of the function."
   ]
  },
  {
   "cell_type": "code",
   "execution_count": 22,
   "metadata": {},
   "outputs": [],
   "source": [
    "test={'input':{\n",
    "            'cards':[13,11,10,7,4,3,1,0]\n",
    "            ,'query':7\n",
    "            },\n",
    "      'output':4}\n",
    "\n",
    "# how to test"
   ]
  },
  {
   "cell_type": "code",
   "execution_count": 23,
   "metadata": {},
   "outputs": [
    {
     "data": {
      "text/plain": [
       "False"
      ]
     },
     "execution_count": 23,
     "metadata": {},
     "output_type": "execute_result"
    }
   ],
   "source": [
    "locate_card(**test['input'])==test['output']"
   ]
  },
  {
   "cell_type": "markdown",
   "metadata": {},
   "source": [
    "* Think of many variations to this problem. eg\n",
    "1. The card bring sought might be somewhere in the middle\n",
    "2. might be the first element\n",
    "3. might be the last elemtn\n",
    "4. the card might be in different positions (repetitive)\n",
    "5. the card might not be in the deck\n"
   ]
  },
  {
   "cell_type": "code",
   "execution_count": 24,
   "metadata": {},
   "outputs": [],
   "source": [
    "tests=[]\n",
    "\n",
    "tests.append(test)"
   ]
  },
  {
   "cell_type": "code",
   "execution_count": 25,
   "metadata": {},
   "outputs": [],
   "source": [
    "## query is the 2nd last eleemnt/somewhere in the middle\n",
    "tests.append({\n",
    "        'input':{\n",
    "            'cards':[13,11,10,7,4,3,1,0]\n",
    "            ,'query':1\n",
    "            },\n",
    "       'output':6})"
   ]
  },
  {
   "cell_type": "code",
   "execution_count": 26,
   "metadata": {},
   "outputs": [],
   "source": [
    "# query is the first elements\n",
    "tests.append({\n",
    "        'input':{\n",
    "            'cards':[4,3,2,1,-1]\n",
    "            ,'query':4\n",
    "            },\n",
    "       'output':0})"
   ]
  },
  {
   "cell_type": "code",
   "execution_count": 27,
   "metadata": {},
   "outputs": [],
   "source": [
    "# cards containing just 1 element\n",
    "tests.append({\n",
    "        'input':{\n",
    "            'cards':[4]\n",
    "            ,'query':4\n",
    "            },\n",
    "       'output':0})"
   ]
  },
  {
   "cell_type": "markdown",
   "metadata": {},
   "source": [
    "* case when cards does not contain query we resturn -1. There is insuffiencent communication in the question and so this is an assumption we just made\n"
   ]
  },
  {
   "cell_type": "code",
   "execution_count": 28,
   "metadata": {},
   "outputs": [],
   "source": [
    "# cards does not contain query\n",
    "\n",
    "tests.append({\n",
    "        'input':{\n",
    "            'cards':[9,7,5,2,-9]\n",
    "            ,'query':4\n",
    "            },\n",
    "       'output':-1})\n"
   ]
  },
  {
   "cell_type": "code",
   "execution_count": 48,
   "metadata": {},
   "outputs": [],
   "source": [
    "# cards is empty\n",
    "tests.append({\n",
    "        'input':{\n",
    "            'cards':[4]\n",
    "            ,'query':4\n",
    "            },\n",
    "       'output':-1})\n"
   ]
  },
  {
   "cell_type": "code",
   "execution_count": 49,
   "metadata": {},
   "outputs": [],
   "source": [
    "# cards has numbers which are repeating but query is not repeating\n",
    "\n",
    "tests.append({\n",
    "        'input':{\n",
    "            'cards':[9,9,9,9,9,6,6,6,6,4,2,2,2,2,0,0,0]\n",
    "            ,'query':4\n",
    "            },\n",
    "       'output':9})\n"
   ]
  },
  {
   "cell_type": "code",
   "execution_count": 50,
   "metadata": {},
   "outputs": [],
   "source": [
    "# case when query occurs multiple times\n",
    "tests.append({\n",
    "        'input':{\n",
    "            'cards':[9,9,9,9,9,6,6,6,6,4,2,2,2,2,0,0,0]\n",
    "            ,'query':6\n",
    "            },\n",
    "       'output':5})\n",
    "\n",
    "# expected to return the first instance of the query"
   ]
  },
  {
   "cell_type": "code",
   "execution_count": 51,
   "metadata": {},
   "outputs": [
    {
     "data": {
      "text/plain": [
       "[{'input': {'cards': [13, 11, 10, 7, 4, 3, 1, 0], 'query': 7}, 'output': 4},\n",
       " {'input': {'cards': [13, 11, 10, 7, 4, 3, 1, 0], 'query': 1}, 'output': 6},\n",
       " {'input': {'cards': [4, 3, 2, 1, -1], 'query': 4}, 'output': 0},\n",
       " {'input': {'cards': [4], 'query': 4}, 'output': 0},\n",
       " {'input': {'cards': [9, 7, 5, 2, -9], 'query': 4}, 'output': -1},\n",
       " {'input': {'cards': [], 'query': 4}, 'output': -1},\n",
       " {'input': {'cards': [9, 9, 9, 9, 9, 6, 6, 6, 6, 4, 2, 2, 2, 2, 0, 0, 0],\n",
       "   'query': 4},\n",
       "  'output': 9},\n",
       " {'input': {'cards': [9, 9, 9, 9, 9, 6, 6, 6, 6, 4, 2, 2, 2, 2, 0, 0, 0],\n",
       "   'query': 6},\n",
       "  'output': 5},\n",
       " {'input': {'cards': [4], 'query': 4}, 'output': -1},\n",
       " {'input': {'cards': [9, 9, 9, 9, 9, 6, 6, 6, 6, 4, 2, 2, 2, 2, 0, 0, 0],\n",
       "   'query': 4},\n",
       "  'output': 9},\n",
       " {'input': {'cards': [9, 9, 9, 9, 9, 6, 6, 6, 6, 4, 2, 2, 2, 2, 0, 0, 0],\n",
       "   'query': 6},\n",
       "  'output': 5}]"
      ]
     },
     "execution_count": 51,
     "metadata": {},
     "output_type": "execute_result"
    }
   ],
   "source": [
    "tests"
   ]
  },
  {
   "cell_type": "markdown",
   "metadata": {},
   "source": [
    "Steps to reproduce: Bob can just turn over the cards one by one and find the card with the given number on it.\n",
    "\n",
    "1. So create a varible `position` with value 0\n",
    "2. Check whether at `position` the  card number= query\n",
    "3. if it does the `position` is the answer and can be retuned from the function\n",
    "4. if not , incremental by postion 1\n",
    "5. if number was not founf then -1\n",
    "\n",
    "This is a **linear search algo** explained in words..now to do it in code form. Searches through  a list in a linear fashion element by element.\n",
    "\n",
    "\n",
    "## Always  express the algorithim in your own words"
   ]
  },
  {
   "cell_type": "code",
   "execution_count": 52,
   "metadata": {},
   "outputs": [],
   "source": [
    "def locate_card(cards,query):\n",
    "    #create psition variable\n",
    "    position=0\n",
    "    \n",
    "    # set up loop\n",
    "    while True:\n",
    "        \n",
    "        #check if element at the position matches the query\n",
    "        if cards[position]==query:\n",
    "            # answer found otu of loop now\n",
    "            return position\n",
    "        \n",
    "        position += 1\n",
    "        \n",
    "        #check if we have reached end of array\n",
    "        \n",
    "        if position ==len(cards):\n",
    "        \n",
    "        # number not found\n",
    "            return -1"
   ]
  },
  {
   "cell_type": "code",
   "execution_count": 53,
   "metadata": {},
   "outputs": [
    {
     "data": {
      "text/plain": [
       "{'input': {'cards': [], 'query': 4}, 'output': -1}"
      ]
     },
     "execution_count": 53,
     "metadata": {},
     "output_type": "execute_result"
    }
   ],
   "source": [
    "test"
   ]
  },
  {
   "cell_type": "code",
   "execution_count": 54,
   "metadata": {},
   "outputs": [
    {
     "name": "stdout",
     "output_type": "stream",
     "text": [
      "3\n"
     ]
    }
   ],
   "source": [
    "result=locate_card(cards,query)\n",
    "print(result)"
   ]
  },
  {
   "cell_type": "code",
   "execution_count": 55,
   "metadata": {},
   "outputs": [
    {
     "name": "stdout",
     "output_type": "stream",
     "text": [
      "False\n",
      "True\n",
      "True\n",
      "True\n",
      "True\n"
     ]
    },
    {
     "ename": "IndexError",
     "evalue": "list index out of range",
     "output_type": "error",
     "traceback": [
      "\u001b[0;31m---------------------------------------------------------------------------\u001b[0m",
      "\u001b[0;31mIndexError\u001b[0m                                Traceback (most recent call last)",
      "Cell \u001b[0;32mIn [55], line 2\u001b[0m\n\u001b[1;32m      1\u001b[0m \u001b[39mfor\u001b[39;00m test \u001b[39min\u001b[39;00m tests:\n\u001b[0;32m----> 2\u001b[0m     \u001b[39mprint\u001b[39m(locate_card(\u001b[39m*\u001b[39;49m\u001b[39m*\u001b[39;49mtest[\u001b[39m'\u001b[39;49m\u001b[39minput\u001b[39;49m\u001b[39m'\u001b[39;49m])\u001b[39m==\u001b[39mtest[\u001b[39m'\u001b[39m\u001b[39moutput\u001b[39m\u001b[39m'\u001b[39m])\n",
      "Cell \u001b[0;32mIn [52], line 9\u001b[0m, in \u001b[0;36mlocate_card\u001b[0;34m(cards, query)\u001b[0m\n\u001b[1;32m      5\u001b[0m \u001b[39m# set up loop\u001b[39;00m\n\u001b[1;32m      6\u001b[0m \u001b[39mwhile\u001b[39;00m \u001b[39mTrue\u001b[39;00m:\n\u001b[1;32m      7\u001b[0m     \n\u001b[1;32m      8\u001b[0m     \u001b[39m#check if element at the position matches the query\u001b[39;00m\n\u001b[0;32m----> 9\u001b[0m     \u001b[39mif\u001b[39;00m cards[position]\u001b[39m==\u001b[39mquery:\n\u001b[1;32m     10\u001b[0m         \u001b[39m# answer found otu of loop now\u001b[39;00m\n\u001b[1;32m     11\u001b[0m         \u001b[39mreturn\u001b[39;00m position\n\u001b[1;32m     13\u001b[0m     position \u001b[39m+\u001b[39m\u001b[39m=\u001b[39m \u001b[39m1\u001b[39m\n",
      "\u001b[0;31mIndexError\u001b[0m: list index out of range"
     ]
    }
   ],
   "source": [
    "for test in tests:\n",
    "    print(locate_card(**test['input'])==test['output'])"
   ]
  }
 ],
 "metadata": {
  "kernelspec": {
   "display_name": "Python 3.9.13 64-bit",
   "language": "python",
   "name": "python3"
  },
  "language_info": {
   "codemirror_mode": {
    "name": "ipython",
    "version": 3
   },
   "file_extension": ".py",
   "mimetype": "text/x-python",
   "name": "python",
   "nbconvert_exporter": "python",
   "pygments_lexer": "ipython3",
   "version": "3.9.13"
  },
  "orig_nbformat": 4,
  "vscode": {
   "interpreter": {
    "hash": "36cf16204b8548560b1c020c4e8fb5b57f0e4c58016f52f2d4be01e192833930"
   }
  }
 },
 "nbformat": 4,
 "nbformat_minor": 2
}
